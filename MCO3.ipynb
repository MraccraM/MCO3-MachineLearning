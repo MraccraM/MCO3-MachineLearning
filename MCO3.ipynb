{
 "cells": [
  {
   "cell_type": "markdown",
   "id": "8f514d40-2aaa-4c1d-853b-58364ac05f3a",
   "metadata": {},
   "source": [
    "# MCO3_Avellaneda_Fadrigo_Sibal_Tan"
   ]
  }
 ],
 "metadata": {
  "kernelspec": {
   "display_name": "Python 3",
   "language": "python",
   "name": "python3"
  },
  "language_info": {
   "codemirror_mode": {
    "name": "ipython",
    "version": 3
   },
   "file_extension": ".py",
   "mimetype": "text/x-python",
   "name": "python",
   "nbconvert_exporter": "python",
   "pygments_lexer": "ipython3",
   "version": "3.10.7"
  }
 },
 "nbformat": 4,
 "nbformat_minor": 5
}
