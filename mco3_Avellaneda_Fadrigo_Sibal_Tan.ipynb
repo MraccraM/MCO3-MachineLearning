{
 "cells": [
  {
   "cell_type": "markdown",
   "id": "8f514d40-2aaa-4c1d-853b-58364ac05f3a",
   "metadata": {},
   "source": [
    "# mco3_Avellaneda_Fadrigo_Sibal_Tan"
   ]
  },
  {
   "cell_type": "markdown",
   "metadata": {},
   "source": [
    "## Overview\n",
    "\n",
    "This project aims to implement and compare the performance of 2 machine learning(ML) models for a classification task of the researcher's choice. An applicable dataset was chosen and was used on the 2 ML models. A deeper-than-surface-level understanding of the ML model in the context of the dataset is required"
   ]
  },
  {
   "cell_type": "markdown",
   "metadata": {},
   "source": [
    "___\n",
    "___\n",
    "## Dataset"
   ]
  },
  {
   "cell_type": "markdown",
   "metadata": {},
   "source": [
    "<a id=\"dataset_info\"></a>\n",
    "This [dataset](https://www.kaggle.com/datasets/joebeachcapital/30000-spotify-songs), entitled \"30000 Spotify Songs\" was uploaded by [Joakin Arvidsson](https://www.kaggle.com/joebeachcapital) on [Kaggle](https://www.kaggle.com/). Additionally the dataset was locally downloaded and can be found in \"/Spotify Dataset\".\n",
    "\n",
    "The dataset contains about 30,000 songs of varying genres from the Spotify API using the [spotifyr](https://www.rcharlie.com/spotifyr/) package. It contains information like the unique track ID, release date, genre, etc. \n",
    "\n",
    "___\n",
    "\n",
    "The dataset has 23 columns they are as follows:\n",
    "1.  track_id: Song unique ID\n",
    "\n",
    "2.  track_name: Song name\n",
    "3.  track_artist: Song artist\n",
    "4.  track_popularity: Song popularity where higher is better|\n",
    "5.  track_album_id: Album unique ID\n",
    "6.  track_album_name: Song album name\n",
    "7.  track_album_release_date: Date when album released\n",
    "8.  playlist_name: Name of playlist\n",
    "9.  playlist_id: Playlist ID\n",
    "10. playlist_genre: Playlist genre\n",
    "11. playlist_subgenre: Playlist subgenre\n",
    "12. danceability: Describes how suitable a track is for dancing based on different factors like tempo, rhythm stability, etc. 0.0 denotes least dancable and 1.0 denotes most dancable.\n",
    "13. energy: Measured from 0.0 to 1.0 and represents a perceptual measure of intensity and activity. \n",
    "14. key: The estimated overall key of the track.\n",
    "15. loudness: The overall loudness of a track in decibels (dB). Typically range from -60 to 0 dB.\n",
    "16. mode: Mode indicates the modality (major or minor) of a track. 1 represents Major and 0 represents Minor\n",
    "17. speechiness: Detects the presence of spoken words in a track. Values close to 1.0 likely indicate a talk show or podcast. Values above 0.66 means that tracks are probably made entirely of spoken words. 0.33 to 0.66 means that the track may have both music and speech. Values below 0.33 represent music or non-speech tracks. \n",
    "18. acousticness: Confidence measure from 0.0 to 1.0 whether the track is acoustic. A higher value means a higher confidence. \n",
    "19. instrumentalness: Predicts whether a track contains no vocals. Values above 0.5 intend to represent musical tracks, with the values approching 1.0 denote a higher degree of confidence.\n",
    "20. liveness: Detects the presence of an audience in the recording. Values above 0.8 indicate that a track likely recorded live.\n",
    "21. valence: Measured from 0.0 to 1.0 describing the musical positiveness conveyed by a track. \n",
    "22. tempo: The overall estimated tempo of a track in beats per minute (BPM). \n",
    "23. duration_ms: Duration of song in milliseconds\n",
    "___"
   ]
  },
  {
   "cell_type": "markdown",
   "metadata": {},
   "source": [
    "### Input Variables\n",
    "<a id=\"input_vars\"></a>\n",
    "The input variable chosen for this project are the following:\n",
    "1. danceability\n",
    "2. energy\n",
    "3. key\n",
    "4. loudness\n",
    "5. mode\n",
    "6. speechiness\n",
    "7. acousticness\n",
    "8. instrumentalness\n",
    "9. liveness\n",
    "10. valence\n",
    "11. tempo \n",
    "12. duration_ms\n",
    "\n",
    "These variables were chosen as the input variabels as they are characteristics of a song that were quantified in the dataset. Described [here](#dataset_info) are what each variable means and how they were measured.\n",
    "\n",
    ">The features being direct characteristics of the songs in the dataset, this led to believe that a ML model can distinguish a song's genre based on these features. However, upon further examination of the genres and features there may be no correlation between the features and the genre of a song. The researchers hypothesis a low accuracy for the ML models. \n",
    "\n",
    "___"
   ]
  },
  {
   "cell_type": "markdown",
   "metadata": {},
   "source": [
    "### Output Variable\n",
    "The output variable for this project is the **playlist_genre**. \n",
    "\n",
    "The model will aim to predict the **genre of the song** based on the **[input variables](#input_vars)**."
   ]
  },
  {
   "cell_type": "markdown",
   "metadata": {},
   "source": [
    "___\n",
    "___\n",
    "## Preprocessing"
   ]
  },
  {
   "cell_type": "markdown",
   "metadata": {},
   "source": [
    "Preprocessing is the process of data preparation that is performed on raw data to preapre it for another data processing procedure. Real world data is typically messy and often created by humans for humans to read. This leads to missing or incomplete fields that, while a human would understand, makes it confusing for a machine learning model to interpret. [(source)](https://www.techtarget.com/searchdatamanagement/definition/data-preprocessing)\n",
    "\n",
    "Preprocessing data before feeding it to a machine learning model can help improve the [following aspects](https://www.kdnuggets.com/2023/02/importance-preprocessing-machine-learning.html#:~:text=Preprocessing%20data%20before%20applying%20it,negatively%20impact%20the%20model's%20performance.) of the model.\n",
    "- Improved accuracy and robustness of the model.\n",
    "- Reduce the time and resources required to train the model.\n",
    "- Helps prevent overfitting.\n",
    "- Removes irrelevant or redundanct information.\n",
    "- Improve the interpretability of the model.\n",
    "\n",
    "\n",
    "In the case of this [dataset](https://www.kaggle.com/datasets/joebeachcapital/30000-spotify-songs), the data preprocessing would involve the following steps.\n",
    "1. Read and load the dataset to ensure that we are working on the correct dataset.\n",
    "2. Checking and dropping and NaN (Not a Number) values in dataset.\n",
    "3. Establishing that input and output data for the models."
   ]
  },
  {
   "cell_type": "markdown",
   "metadata": {},
   "source": [
    "___\n",
    "### Importing libraries of preprocessing and data visualization"
   ]
  },
  {
   "cell_type": "code",
   "execution_count": 3,
   "metadata": {},
   "outputs": [],
   "source": [
    "import numpy as np\n",
    "import pandas as pd \n",
    "import matplotlib.pyplot as plt\n",
    "# keep plt inline in ntbk instead of new window\n",
    "%matplotlib inline\n",
    "\n",
    "from sklearn import preprocessing\n",
    "\n",
    "plt.rcParams['figure.figsize'] = (6.0, 6.0) # set default size of plots\n",
    "plt.rcParams['image.interpolation'] = 'nearest'\n",
    "plt.rcParams['image.cmap'] = 'gray'\n",
    "\n",
    "# autoreload external python modules;\n",
    "# see http://stackoverflow.com/questions/1907993/autoreload-of-modules-in-ipython\n",
    "%reload_ext autoreload\n",
    "%autoreload 2"
   ]
  },
  {
   "cell_type": "markdown",
   "metadata": {},
   "source": [
    "___\n",
    "### Load the dataset for visualization and preprocessing"
   ]
  },
  {
   "cell_type": "markdown",
   "metadata": {},
   "source": [
    "Using python pandas, the researchers are able to view, visualize and explore the dataset in a dataframe without manipulating the original file. "
   ]
  },
  {
   "cell_type": "code",
   "execution_count": 4,
   "metadata": {},
   "outputs": [],
   "source": [
    "df = pd.read_csv('../MCO3-MachineLearning/Spotify_Dataset/spotify_songs.csv')"
   ]
  },
  {
   "cell_type": "code",
   "execution_count": 5,
   "metadata": {},
   "outputs": [
    {
     "name": "stdout",
     "output_type": "stream",
     "text": [
      "<class 'pandas.core.frame.DataFrame'>\n",
      "RangeIndex: 32833 entries, 0 to 32832\n",
      "Data columns (total 23 columns):\n",
      " #   Column                    Non-Null Count  Dtype  \n",
      "---  ------                    --------------  -----  \n",
      " 0   track_id                  32833 non-null  object \n",
      " 1   track_name                32828 non-null  object \n",
      " 2   track_artist              32828 non-null  object \n",
      " 3   track_popularity          32833 non-null  int64  \n",
      " 4   track_album_id            32833 non-null  object \n",
      " 5   track_album_name          32828 non-null  object \n",
      " 6   track_album_release_date  32833 non-null  object \n",
      " 7   playlist_name             32833 non-null  object \n",
      " 8   playlist_id               32833 non-null  object \n",
      " 9   playlist_genre            32833 non-null  object \n",
      " 10  playlist_subgenre         32833 non-null  object \n",
      " 11  danceability              32833 non-null  float64\n",
      " 12  energy                    32833 non-null  float64\n",
      " 13  key                       32833 non-null  int64  \n",
      " 14  loudness                  32833 non-null  float64\n",
      " 15  mode                      32833 non-null  int64  \n",
      " 16  speechiness               32833 non-null  float64\n",
      " 17  acousticness              32833 non-null  float64\n",
      " 18  instrumentalness          32833 non-null  float64\n",
      " 19  liveness                  32833 non-null  float64\n",
      " 20  valence                   32833 non-null  float64\n",
      " 21  tempo                     32833 non-null  float64\n",
      " 22  duration_ms               32833 non-null  int64  \n",
      "dtypes: float64(9), int64(4), object(10)\n",
      "memory usage: 5.8+ MB\n"
     ]
    }
   ],
   "source": [
    "# show general info and check for NULL values\n",
    "df.info()"
   ]
  },
  {
   "cell_type": "code",
   "execution_count": 6,
   "metadata": {},
   "outputs": [
    {
     "data": {
      "text/html": [
       "<div>\n",
       "<style scoped>\n",
       "    .dataframe tbody tr th:only-of-type {\n",
       "        vertical-align: middle;\n",
       "    }\n",
       "\n",
       "    .dataframe tbody tr th {\n",
       "        vertical-align: top;\n",
       "    }\n",
       "\n",
       "    .dataframe thead th {\n",
       "        text-align: right;\n",
       "    }\n",
       "</style>\n",
       "<table border=\"1\" class=\"dataframe\">\n",
       "  <thead>\n",
       "    <tr style=\"text-align: right;\">\n",
       "      <th></th>\n",
       "      <th>track_id</th>\n",
       "      <th>track_name</th>\n",
       "      <th>track_artist</th>\n",
       "      <th>track_popularity</th>\n",
       "      <th>track_album_id</th>\n",
       "      <th>track_album_name</th>\n",
       "      <th>track_album_release_date</th>\n",
       "      <th>playlist_name</th>\n",
       "      <th>playlist_id</th>\n",
       "      <th>playlist_genre</th>\n",
       "      <th>...</th>\n",
       "      <th>key</th>\n",
       "      <th>loudness</th>\n",
       "      <th>mode</th>\n",
       "      <th>speechiness</th>\n",
       "      <th>acousticness</th>\n",
       "      <th>instrumentalness</th>\n",
       "      <th>liveness</th>\n",
       "      <th>valence</th>\n",
       "      <th>tempo</th>\n",
       "      <th>duration_ms</th>\n",
       "    </tr>\n",
       "  </thead>\n",
       "  <tbody>\n",
       "    <tr>\n",
       "      <th>0</th>\n",
       "      <td>6f807x0ima9a1j3VPbc7VN</td>\n",
       "      <td>I Don't Care (with Justin Bieber) - Loud Luxur...</td>\n",
       "      <td>Ed Sheeran</td>\n",
       "      <td>66</td>\n",
       "      <td>2oCs0DGTsRO98Gh5ZSl2Cx</td>\n",
       "      <td>I Don't Care (with Justin Bieber) [Loud Luxury...</td>\n",
       "      <td>2019-06-14</td>\n",
       "      <td>Pop Remix</td>\n",
       "      <td>37i9dQZF1DXcZDD7cfEKhW</td>\n",
       "      <td>pop</td>\n",
       "      <td>...</td>\n",
       "      <td>6</td>\n",
       "      <td>-2.634</td>\n",
       "      <td>1</td>\n",
       "      <td>0.0583</td>\n",
       "      <td>0.1020</td>\n",
       "      <td>0.00000</td>\n",
       "      <td>0.0653</td>\n",
       "      <td>0.518</td>\n",
       "      <td>122.036</td>\n",
       "      <td>194754</td>\n",
       "    </tr>\n",
       "    <tr>\n",
       "      <th>1</th>\n",
       "      <td>0r7CVbZTWZgbTCYdfa2P31</td>\n",
       "      <td>Memories - Dillon Francis Remix</td>\n",
       "      <td>Maroon 5</td>\n",
       "      <td>67</td>\n",
       "      <td>63rPSO264uRjW1X5E6cWv6</td>\n",
       "      <td>Memories (Dillon Francis Remix)</td>\n",
       "      <td>2019-12-13</td>\n",
       "      <td>Pop Remix</td>\n",
       "      <td>37i9dQZF1DXcZDD7cfEKhW</td>\n",
       "      <td>pop</td>\n",
       "      <td>...</td>\n",
       "      <td>11</td>\n",
       "      <td>-4.969</td>\n",
       "      <td>1</td>\n",
       "      <td>0.0373</td>\n",
       "      <td>0.0724</td>\n",
       "      <td>0.00421</td>\n",
       "      <td>0.3570</td>\n",
       "      <td>0.693</td>\n",
       "      <td>99.972</td>\n",
       "      <td>162600</td>\n",
       "    </tr>\n",
       "  </tbody>\n",
       "</table>\n",
       "<p>2 rows × 23 columns</p>\n",
       "</div>"
      ],
      "text/plain": [
       "                 track_id                                         track_name  \\\n",
       "0  6f807x0ima9a1j3VPbc7VN  I Don't Care (with Justin Bieber) - Loud Luxur...   \n",
       "1  0r7CVbZTWZgbTCYdfa2P31                    Memories - Dillon Francis Remix   \n",
       "\n",
       "  track_artist  track_popularity          track_album_id  \\\n",
       "0   Ed Sheeran                66  2oCs0DGTsRO98Gh5ZSl2Cx   \n",
       "1     Maroon 5                67  63rPSO264uRjW1X5E6cWv6   \n",
       "\n",
       "                                    track_album_name track_album_release_date  \\\n",
       "0  I Don't Care (with Justin Bieber) [Loud Luxury...               2019-06-14   \n",
       "1                    Memories (Dillon Francis Remix)               2019-12-13   \n",
       "\n",
       "  playlist_name             playlist_id playlist_genre  ... key  loudness  \\\n",
       "0     Pop Remix  37i9dQZF1DXcZDD7cfEKhW            pop  ...   6    -2.634   \n",
       "1     Pop Remix  37i9dQZF1DXcZDD7cfEKhW            pop  ...  11    -4.969   \n",
       "\n",
       "   mode  speechiness  acousticness  instrumentalness  liveness  valence  \\\n",
       "0     1       0.0583        0.1020           0.00000    0.0653    0.518   \n",
       "1     1       0.0373        0.0724           0.00421    0.3570    0.693   \n",
       "\n",
       "     tempo  duration_ms  \n",
       "0  122.036       194754  \n",
       "1   99.972       162600  \n",
       "\n",
       "[2 rows x 23 columns]"
      ]
     },
     "execution_count": 6,
     "metadata": {},
     "output_type": "execute_result"
    }
   ],
   "source": [
    "# view some of the sample data to ensure data integrity\n",
    "df.head(2)"
   ]
  },
  {
   "cell_type": "code",
   "execution_count": 7,
   "metadata": {},
   "outputs": [
    {
     "data": {
      "text/html": [
       "<div>\n",
       "<style scoped>\n",
       "    .dataframe tbody tr th:only-of-type {\n",
       "        vertical-align: middle;\n",
       "    }\n",
       "\n",
       "    .dataframe tbody tr th {\n",
       "        vertical-align: top;\n",
       "    }\n",
       "\n",
       "    .dataframe thead th {\n",
       "        text-align: right;\n",
       "    }\n",
       "</style>\n",
       "<table border=\"1\" class=\"dataframe\">\n",
       "  <thead>\n",
       "    <tr style=\"text-align: right;\">\n",
       "      <th></th>\n",
       "      <th>track_popularity</th>\n",
       "      <th>danceability</th>\n",
       "      <th>energy</th>\n",
       "      <th>key</th>\n",
       "      <th>loudness</th>\n",
       "      <th>mode</th>\n",
       "      <th>speechiness</th>\n",
       "      <th>acousticness</th>\n",
       "      <th>instrumentalness</th>\n",
       "      <th>liveness</th>\n",
       "      <th>valence</th>\n",
       "      <th>tempo</th>\n",
       "      <th>duration_ms</th>\n",
       "    </tr>\n",
       "  </thead>\n",
       "  <tbody>\n",
       "    <tr>\n",
       "      <th>count</th>\n",
       "      <td>32833.000000</td>\n",
       "      <td>32833.000000</td>\n",
       "      <td>32833.000000</td>\n",
       "      <td>32833.000000</td>\n",
       "      <td>32833.000000</td>\n",
       "      <td>32833.000000</td>\n",
       "      <td>32833.000000</td>\n",
       "      <td>32833.000000</td>\n",
       "      <td>32833.000000</td>\n",
       "      <td>32833.000000</td>\n",
       "      <td>32833.000000</td>\n",
       "      <td>32833.000000</td>\n",
       "      <td>32833.000000</td>\n",
       "    </tr>\n",
       "    <tr>\n",
       "      <th>mean</th>\n",
       "      <td>42.477081</td>\n",
       "      <td>0.654850</td>\n",
       "      <td>0.698619</td>\n",
       "      <td>5.374471</td>\n",
       "      <td>-6.719499</td>\n",
       "      <td>0.565711</td>\n",
       "      <td>0.107068</td>\n",
       "      <td>0.175334</td>\n",
       "      <td>0.084747</td>\n",
       "      <td>0.190176</td>\n",
       "      <td>0.510561</td>\n",
       "      <td>120.881132</td>\n",
       "      <td>225799.811622</td>\n",
       "    </tr>\n",
       "    <tr>\n",
       "      <th>std</th>\n",
       "      <td>24.984074</td>\n",
       "      <td>0.145085</td>\n",
       "      <td>0.180910</td>\n",
       "      <td>3.611657</td>\n",
       "      <td>2.988436</td>\n",
       "      <td>0.495671</td>\n",
       "      <td>0.101314</td>\n",
       "      <td>0.219633</td>\n",
       "      <td>0.224230</td>\n",
       "      <td>0.154317</td>\n",
       "      <td>0.233146</td>\n",
       "      <td>26.903624</td>\n",
       "      <td>59834.006182</td>\n",
       "    </tr>\n",
       "    <tr>\n",
       "      <th>min</th>\n",
       "      <td>0.000000</td>\n",
       "      <td>0.000000</td>\n",
       "      <td>0.000175</td>\n",
       "      <td>0.000000</td>\n",
       "      <td>-46.448000</td>\n",
       "      <td>0.000000</td>\n",
       "      <td>0.000000</td>\n",
       "      <td>0.000000</td>\n",
       "      <td>0.000000</td>\n",
       "      <td>0.000000</td>\n",
       "      <td>0.000000</td>\n",
       "      <td>0.000000</td>\n",
       "      <td>4000.000000</td>\n",
       "    </tr>\n",
       "    <tr>\n",
       "      <th>25%</th>\n",
       "      <td>24.000000</td>\n",
       "      <td>0.563000</td>\n",
       "      <td>0.581000</td>\n",
       "      <td>2.000000</td>\n",
       "      <td>-8.171000</td>\n",
       "      <td>0.000000</td>\n",
       "      <td>0.041000</td>\n",
       "      <td>0.015100</td>\n",
       "      <td>0.000000</td>\n",
       "      <td>0.092700</td>\n",
       "      <td>0.331000</td>\n",
       "      <td>99.960000</td>\n",
       "      <td>187819.000000</td>\n",
       "    </tr>\n",
       "    <tr>\n",
       "      <th>50%</th>\n",
       "      <td>45.000000</td>\n",
       "      <td>0.672000</td>\n",
       "      <td>0.721000</td>\n",
       "      <td>6.000000</td>\n",
       "      <td>-6.166000</td>\n",
       "      <td>1.000000</td>\n",
       "      <td>0.062500</td>\n",
       "      <td>0.080400</td>\n",
       "      <td>0.000016</td>\n",
       "      <td>0.127000</td>\n",
       "      <td>0.512000</td>\n",
       "      <td>121.984000</td>\n",
       "      <td>216000.000000</td>\n",
       "    </tr>\n",
       "    <tr>\n",
       "      <th>75%</th>\n",
       "      <td>62.000000</td>\n",
       "      <td>0.761000</td>\n",
       "      <td>0.840000</td>\n",
       "      <td>9.000000</td>\n",
       "      <td>-4.645000</td>\n",
       "      <td>1.000000</td>\n",
       "      <td>0.132000</td>\n",
       "      <td>0.255000</td>\n",
       "      <td>0.004830</td>\n",
       "      <td>0.248000</td>\n",
       "      <td>0.693000</td>\n",
       "      <td>133.918000</td>\n",
       "      <td>253585.000000</td>\n",
       "    </tr>\n",
       "    <tr>\n",
       "      <th>max</th>\n",
       "      <td>100.000000</td>\n",
       "      <td>0.983000</td>\n",
       "      <td>1.000000</td>\n",
       "      <td>11.000000</td>\n",
       "      <td>1.275000</td>\n",
       "      <td>1.000000</td>\n",
       "      <td>0.918000</td>\n",
       "      <td>0.994000</td>\n",
       "      <td>0.994000</td>\n",
       "      <td>0.996000</td>\n",
       "      <td>0.991000</td>\n",
       "      <td>239.440000</td>\n",
       "      <td>517810.000000</td>\n",
       "    </tr>\n",
       "  </tbody>\n",
       "</table>\n",
       "</div>"
      ],
      "text/plain": [
       "       track_popularity  danceability        energy           key  \\\n",
       "count      32833.000000  32833.000000  32833.000000  32833.000000   \n",
       "mean          42.477081      0.654850      0.698619      5.374471   \n",
       "std           24.984074      0.145085      0.180910      3.611657   \n",
       "min            0.000000      0.000000      0.000175      0.000000   \n",
       "25%           24.000000      0.563000      0.581000      2.000000   \n",
       "50%           45.000000      0.672000      0.721000      6.000000   \n",
       "75%           62.000000      0.761000      0.840000      9.000000   \n",
       "max          100.000000      0.983000      1.000000     11.000000   \n",
       "\n",
       "           loudness          mode   speechiness  acousticness  \\\n",
       "count  32833.000000  32833.000000  32833.000000  32833.000000   \n",
       "mean      -6.719499      0.565711      0.107068      0.175334   \n",
       "std        2.988436      0.495671      0.101314      0.219633   \n",
       "min      -46.448000      0.000000      0.000000      0.000000   \n",
       "25%       -8.171000      0.000000      0.041000      0.015100   \n",
       "50%       -6.166000      1.000000      0.062500      0.080400   \n",
       "75%       -4.645000      1.000000      0.132000      0.255000   \n",
       "max        1.275000      1.000000      0.918000      0.994000   \n",
       "\n",
       "       instrumentalness      liveness       valence         tempo  \\\n",
       "count      32833.000000  32833.000000  32833.000000  32833.000000   \n",
       "mean           0.084747      0.190176      0.510561    120.881132   \n",
       "std            0.224230      0.154317      0.233146     26.903624   \n",
       "min            0.000000      0.000000      0.000000      0.000000   \n",
       "25%            0.000000      0.092700      0.331000     99.960000   \n",
       "50%            0.000016      0.127000      0.512000    121.984000   \n",
       "75%            0.004830      0.248000      0.693000    133.918000   \n",
       "max            0.994000      0.996000      0.991000    239.440000   \n",
       "\n",
       "         duration_ms  \n",
       "count   32833.000000  \n",
       "mean   225799.811622  \n",
       "std     59834.006182  \n",
       "min      4000.000000  \n",
       "25%    187819.000000  \n",
       "50%    216000.000000  \n",
       "75%    253585.000000  \n",
       "max    517810.000000  "
      ]
     },
     "execution_count": 7,
     "metadata": {},
     "output_type": "execute_result"
    }
   ],
   "source": [
    "# tabulated description of the numerical values in the dataframe\n",
    "df.describe()"
   ]
  },
  {
   "cell_type": "markdown",
   "metadata": {},
   "source": [
    "___\n",
    "### Check and remove rows if there are null cells in the dataset\n",
    "\n",
    "NaN values are removed or replaced in ML models because there are cases wherein the ML model cannot handle NaN values. NaN values are also typically considered as irrelevant information that brings no benefit to a ML model. Additionally, cleaning the dataset to avoid NaN values could increase the accuracy and efficiency of the model."
   ]
  },
  {
   "cell_type": "code",
   "execution_count": 8,
   "metadata": {},
   "outputs": [
    {
     "data": {
      "text/plain": [
       "(array([ 8151,  9282,  9283, 19568, 19811], dtype=int64),)"
      ]
     },
     "execution_count": 8,
     "metadata": {},
     "output_type": "execute_result"
    }
   ],
   "source": [
    "# check for NaN values in dataframe\n",
    "nan_rows = df.isna().any(axis=1)\n",
    "np.nonzero(nan_rows)"
   ]
  },
  {
   "cell_type": "markdown",
   "metadata": {},
   "source": [
    "Rows 8151, 9282, 9283, 19568 and 19811 contain NaN values."
   ]
  },
  {
   "cell_type": "code",
   "execution_count": 9,
   "metadata": {},
   "outputs": [
    {
     "data": {
      "text/plain": [
       "track_id                    69gRFGOWY9OMpFJgFol1u0\n",
       "track_name                                     NaN\n",
       "track_artist                                   NaN\n",
       "track_popularity                                 0\n",
       "track_album_id              717UG2du6utFe7CdmpuUe3\n",
       "track_album_name                               NaN\n",
       "track_album_release_date                2012-01-05\n",
       "playlist_name                              HIP&HOP\n",
       "playlist_id                 5DyJsJZOpMJh34WvUrQzMV\n",
       "playlist_genre                                 rap\n",
       "playlist_subgenre                 southern hip hop\n",
       "danceability                                 0.714\n",
       "energy                                       0.821\n",
       "key                                              6\n",
       "loudness                                    -7.635\n",
       "mode                                             1\n",
       "speechiness                                  0.176\n",
       "acousticness                                 0.041\n",
       "instrumentalness                               0.0\n",
       "liveness                                     0.116\n",
       "valence                                      0.649\n",
       "tempo                                       95.999\n",
       "duration_ms                                 282707\n",
       "Name: 8151, dtype: object"
      ]
     },
     "execution_count": 9,
     "metadata": {},
     "output_type": "execute_result"
    }
   ],
   "source": [
    "# double check that indicated row does indeed contain a NaN value\n",
    "df.iloc[8151]"
   ]
  },
  {
   "cell_type": "markdown",
   "metadata": {},
   "source": [
    "Using python pandas, removing these NaN values is as simple as using the [dropna()](https://pandas.pydata.org/docs/reference/api/pandas.DataFrame.dropna.html) function"
   ]
  },
  {
   "cell_type": "code",
   "execution_count": 10,
   "metadata": {},
   "outputs": [],
   "source": [
    "# remove NaN values from dataframe\n",
    "df = df.dropna()"
   ]
  },
  {
   "cell_type": "code",
   "execution_count": 11,
   "metadata": {},
   "outputs": [
    {
     "data": {
      "text/plain": [
       "(array([], dtype=int64),)"
      ]
     },
     "execution_count": 11,
     "metadata": {},
     "output_type": "execute_result"
    }
   ],
   "source": [
    "# additional layer of checking if NaN values are removed\n",
    "nan_rows = df.isna().any(axis=1)\n",
    "np.nonzero(nan_rows)"
   ]
  },
  {
   "cell_type": "markdown",
   "metadata": {},
   "source": [
    "It can be seen that that nan_rows list is empty. Indicating that the rows containing a NaN value have been removed from the dataframe."
   ]
  },
  {
   "cell_type": "markdown",
   "metadata": {},
   "source": [
    "___\n",
    "### Obtaining Input and Output data\n",
    "- Input Data:   The features that the model will use to make predictions\n",
    "- Output Data:  The target variable that the model aims to predict"
   ]
  },
  {
   "cell_type": "markdown",
   "metadata": {},
   "source": [
    "The output variable chosen for this model is \"playlist_genre\""
   ]
  },
  {
   "cell_type": "code",
   "execution_count": 12,
   "metadata": {},
   "outputs": [
    {
     "name": "stdout",
     "output_type": "stream",
     "text": [
      "<class 'pandas.core.frame.DataFrame'>\n",
      "Index: 32828 entries, 0 to 32832\n",
      "Data columns (total 1 columns):\n",
      " #   Column          Non-Null Count  Dtype \n",
      "---  ------          --------------  ----- \n",
      " 0   playlist_genre  32828 non-null  object\n",
      "dtypes: object(1)\n",
      "memory usage: 512.9+ KB\n"
     ]
    }
   ],
   "source": [
    "# create a new dataframe for the output variable\n",
    "output = df['playlist_genre']\n",
    "output = output.to_frame()\n",
    "output.info()"
   ]
  },
  {
   "cell_type": "markdown",
   "metadata": {},
   "source": [
    "Because the \"playlist_genre\" is non-numeric. The researchers will map the unique genres and replace the values in the dataframe."
   ]
  },
  {
   "cell_type": "code",
   "execution_count": 13,
   "metadata": {},
   "outputs": [
    {
     "data": {
      "text/plain": [
       "array(['pop', 'rap', 'rock', 'latin', 'r&b', 'edm'], dtype=object)"
      ]
     },
     "execution_count": 13,
     "metadata": {},
     "output_type": "execute_result"
    }
   ],
   "source": [
    "# obtain the unique values in \"playlist_genre\"\n",
    "# The values netted by this block of code are all the unique genre classifications in the dataset\n",
    "genres = output['playlist_genre'].unique()\n",
    "genres"
   ]
  },
  {
   "cell_type": "code",
   "execution_count": 14,
   "metadata": {},
   "outputs": [
    {
     "data": {
      "text/plain": [
       "{'pop': 0, 'rap': 1, 'rock': 2, 'latin': 3, 'r&b': 4, 'edm': 5}"
      ]
     },
     "execution_count": 14,
     "metadata": {},
     "output_type": "execute_result"
    }
   ],
   "source": [
    "# mapping each uniqe genre to a number so the ML model will not have trouble processing the information\n",
    "mapped_genres = {genre : i for i, genre in enumerate(genres)}\n",
    "mapped_genres"
   ]
  },
  {
   "cell_type": "code",
   "execution_count": 15,
   "metadata": {},
   "outputs": [
    {
     "data": {
      "text/html": [
       "<div>\n",
       "<style scoped>\n",
       "    .dataframe tbody tr th:only-of-type {\n",
       "        vertical-align: middle;\n",
       "    }\n",
       "\n",
       "    .dataframe tbody tr th {\n",
       "        vertical-align: top;\n",
       "    }\n",
       "\n",
       "    .dataframe thead th {\n",
       "        text-align: right;\n",
       "    }\n",
       "</style>\n",
       "<table border=\"1\" class=\"dataframe\">\n",
       "  <thead>\n",
       "    <tr style=\"text-align: right;\">\n",
       "      <th></th>\n",
       "      <th>playlist_genre</th>\n",
       "    </tr>\n",
       "  </thead>\n",
       "  <tbody>\n",
       "    <tr>\n",
       "      <th>0</th>\n",
       "      <td>0</td>\n",
       "    </tr>\n",
       "    <tr>\n",
       "      <th>1</th>\n",
       "      <td>0</td>\n",
       "    </tr>\n",
       "    <tr>\n",
       "      <th>2</th>\n",
       "      <td>0</td>\n",
       "    </tr>\n",
       "    <tr>\n",
       "      <th>3</th>\n",
       "      <td>0</td>\n",
       "    </tr>\n",
       "    <tr>\n",
       "      <th>4</th>\n",
       "      <td>0</td>\n",
       "    </tr>\n",
       "  </tbody>\n",
       "</table>\n",
       "</div>"
      ],
      "text/plain": [
       "   playlist_genre\n",
       "0               0\n",
       "1               0\n",
       "2               0\n",
       "3               0\n",
       "4               0"
      ]
     },
     "execution_count": 15,
     "metadata": {},
     "output_type": "execute_result"
    }
   ],
   "source": [
    "# replace the alphanumeric labels in the dataframe with the mapped values\n",
    "output = output.replace({'playlist_genre':mapped_genres})\n",
    "output.head()"
   ]
  },
  {
   "cell_type": "markdown",
   "metadata": {},
   "source": [
    ".squeeze() removes 1 axes of length from an array\n",
    "\n",
    "This is done because in some models (like MLPClassifier) expect a 1D array for the output variable. While this doesn't break the model, it does issue a warning."
   ]
  },
  {
   "cell_type": "code",
   "execution_count": 16,
   "metadata": {},
   "outputs": [
    {
     "data": {
      "text/plain": [
       "(32828,)"
      ]
     },
     "execution_count": 16,
     "metadata": {},
     "output_type": "execute_result"
    }
   ],
   "source": [
    "output = output.squeeze()\n",
    "output.shape"
   ]
  },
  {
   "cell_type": "markdown",
   "metadata": {},
   "source": [
    "The input data to be used to predict a songs genre are the quantified characteristics of the music that were listed in the dataset."
   ]
  },
  {
   "cell_type": "code",
   "execution_count": 17,
   "metadata": {},
   "outputs": [],
   "source": [
    "# features chosen are the quantifiable characteristics of a song measured in the dataset\n",
    "features = ['danceability',\n",
    "            'energy',\n",
    "            'key',\n",
    "            'loudness',\n",
    "            'mode',\n",
    "            'speechiness',\n",
    "            'acousticness',\n",
    "            'instrumentalness',\n",
    "            'liveness',\n",
    "            'valence',\n",
    "            'tempo',\n",
    "            'duration_ms']"
   ]
  },
  {
   "cell_type": "code",
   "execution_count": 18,
   "metadata": {},
   "outputs": [
    {
     "name": "stdout",
     "output_type": "stream",
     "text": [
      "<class 'pandas.core.frame.DataFrame'>\n",
      "Index: 32828 entries, 0 to 32832\n",
      "Data columns (total 12 columns):\n",
      " #   Column            Non-Null Count  Dtype  \n",
      "---  ------            --------------  -----  \n",
      " 0   danceability      32828 non-null  float64\n",
      " 1   energy            32828 non-null  float64\n",
      " 2   key               32828 non-null  int64  \n",
      " 3   loudness          32828 non-null  float64\n",
      " 4   mode              32828 non-null  int64  \n",
      " 5   speechiness       32828 non-null  float64\n",
      " 6   acousticness      32828 non-null  float64\n",
      " 7   instrumentalness  32828 non-null  float64\n",
      " 8   liveness          32828 non-null  float64\n",
      " 9   valence           32828 non-null  float64\n",
      " 10  tempo             32828 non-null  float64\n",
      " 11  duration_ms       32828 non-null  int64  \n",
      "dtypes: float64(9), int64(3)\n",
      "memory usage: 3.3 MB\n"
     ]
    }
   ],
   "source": [
    "# creating a separate dataframe for just the features\n",
    "# it will serve as the input data for the model\n",
    "df_features = df[features]\n",
    "df_features.info()"
   ]
  },
  {
   "cell_type": "code",
   "execution_count": 19,
   "metadata": {},
   "outputs": [
    {
     "data": {
      "text/plain": [
       "(32828, 12)"
      ]
     },
     "execution_count": 19,
     "metadata": {},
     "output_type": "execute_result"
    }
   ],
   "source": [
    "# ensure that the shape of the dataframe is suitable for the model/s\n",
    "df_features.shape"
   ]
  },
  {
   "cell_type": "markdown",
   "metadata": {},
   "source": [
    "___\n",
    "### Value Normalization\n",
    "\n",
    "Normalizing values in a machine learning model is important for serveral different reasons. These are the following:\n",
    "1. Scale Consistency: The different features in the dataset may be scaled differently. ML algorithms perform better when the features of the data are of a similar scale.\n",
    "2. Convergence Speed: Gradient-based optimization algorithms, which are commonly used to train machine learnign models, coverge faster when features are normalized.\n",
    "3. Improves Model Performance: Normalizing the values in a dataset can improve model performance in general.\n",
    "4. Avoiding Numerical Instabilities: There are cases wherein numerical instability issues can arise if the features are not normalized. \n",
    "5. Regularization: Regularization techniques, which are often used to prevent overfitting, assume that the features are on a similar scale.\n",
    "6. Interpretability: Normalizing the features makes it easier to interpret the coefficients of a model.\n",
    "7. Handling Different Measurement Units: In the event that a dataset has different measurement units, normalizing helps to make the features unitless, making them easier to understand for the model."
   ]
  },
  {
   "cell_type": "markdown",
   "metadata": {},
   "source": [
    "[MinMaxScaler()](https://scikit-learn.org/stable/modules/generated/sklearn.preprocessing.MinMaxScaler.html) is a function present in scikit-learn's preprocessing library. It transforms features by scaling the features to a given range (default of 0-1). The formula run by the function is the following:\n",
    "\n",
    "\n",
    ">X_std = (X - X.min(axis=0)) / (X.max(axis=0) - X.min(axis=0))\n",
    ">\n",
    ">X_scaled = X_std * (max - min) + min\n",
    ">\n",
    ">where min, max = feature_range.\n",
    "\n",
    "MinMaxScaler() does not reduce the effect of outlier, instead linearly scaling down the values to a fixed range. \n"
   ]
  },
  {
   "cell_type": "code",
   "execution_count": 20,
   "metadata": {},
   "outputs": [
    {
     "name": "stdout",
     "output_type": "stream",
     "text": [
      "       danceability    energy       key  loudness  mode  speechiness  \\\n",
      "0          0.760936  0.915985  0.545455  0.918090   1.0     0.063508   \n",
      "1          0.738555  0.814968  1.000000  0.869162   1.0     0.040632   \n",
      "2          0.686673  0.930988  0.090909  0.901368   0.0     0.080828   \n",
      "3          0.730417  0.929988  0.636364  0.894118   1.0     0.111111   \n",
      "4          0.661241  0.832971  0.090909  0.875385   1.0     0.039107   \n",
      "...             ...       ...       ...       ...   ...          ...   \n",
      "32823      0.435402  0.921986  0.181818  0.935272   1.0     0.101961   \n",
      "32824      0.531027  0.785963  0.000000  0.879785   1.0     0.045752   \n",
      "32825      0.538149  0.820969  0.545455  0.870628   0.0     0.052397   \n",
      "32826      0.636826  0.887980  0.181818  0.902856   1.0     0.118736   \n",
      "32827      0.613428  0.883980  0.454545  0.877501   0.0     0.041939   \n",
      "\n",
      "       acousticness  instrumentalness  liveness   valence     tempo  \\\n",
      "0          0.102616          0.000000  0.065562  0.522704  0.509673   \n",
      "1          0.072837          0.004235  0.358434  0.699294  0.417524   \n",
      "2          0.079879          0.000023  0.110442  0.618567  0.517908   \n",
      "3          0.028873          0.000009  0.204819  0.279516  0.509338   \n",
      "4          0.080785          0.000000  0.083635  0.731584  0.517775   \n",
      "...             ...               ...       ...       ...       ...   \n",
      "32823      0.077062          0.000000  0.067068  0.211907  0.535291   \n",
      "32824      0.001720          0.004296  0.376506  0.403633  0.534752   \n",
      "32825      0.108652          0.000001  0.150602  0.439960  0.534535   \n",
      "32826      0.007968          0.127767  0.344378  0.310797  0.534614   \n",
      "32827      0.000134          0.343058  0.744980  0.090212  0.534514   \n",
      "\n",
      "       duration_ms  \n",
      "0         0.371254  \n",
      "1         0.308674  \n",
      "2         0.335953  \n",
      "3         0.321311  \n",
      "4         0.360156  \n",
      "...            ...  \n",
      "32823     0.389979  \n",
      "32824     0.679473  \n",
      "32825     0.401144  \n",
      "32826     0.707328  \n",
      "32827     0.649073  \n",
      "\n",
      "[32828 rows x 12 columns]\n"
     ]
    }
   ],
   "source": [
    "# implementaion of MinMaxScaler()\n",
    "scaler = preprocessing.MinMaxScaler()\n",
    "x = scaler.fit_transform(df_features)\n",
    "df_normalized = pd.DataFrame(x, columns=features)\n",
    "print(df_normalized)"
   ]
  },
  {
   "cell_type": "markdown",
   "metadata": {},
   "source": [
    "Input data has been normalized and is ready to be fed to the model."
   ]
  },
  {
   "cell_type": "markdown",
   "metadata": {},
   "source": [
    "---\n",
    "---\n",
    "## Definition of Classification Task"
   ]
  },
  {
   "cell_type": "markdown",
   "metadata": {},
   "source": [
    "The classification task to be performed in this project is to predict the genre of a song based on a set of features available in the dataset. As such, the **output** variable for this project is the song's **genre**. Meanwhile, the features are mentioned **[here](#input_vars)**. Mentioned in the same cell is the reason for choosing those features. In summary, those features were selected because they are quantified characteristics of songs that are present in the dataset. The researchers believe that the selected features could be used to classify songs by their genre. \n"
   ]
  },
  {
   "cell_type": "markdown",
   "metadata": {},
   "source": [
    "### Rationale\n",
    "\n",
    "Originally, there were two candidate datasets to be used. [Spotify](https://www.kaggle.com/datasets/joebeachcapital/30000-spotify-songs) and [Android Malware Detection](https://www.kaggle.com/datasets/joebeachcapital/tuandromd). Initially, the researchers had considered using the malware detection dataset as it aligned with our main interest as a group, which is cybersecurity. However, after exploring both datasets more, the researchers had ultimately decided to use the spotify dataset and to classify the songs by genre. \n",
    "\n",
    "Given the various features and labels of the dataset, the researchers had a lot of options like the modality or danceability of the songs. However, the reasearchers had decided to classify by genre as it is the most common and well recognized classification of songs. The features listed [here](#input_vars) allowed the researchers to realize that there may be some trends or patterns that exist in the music that allow it to be distnguishale from each genre. Overall, while the malware dataset aligns with the interests of the researchers, the spotify dataset had peaked the curiosity of the researchers. And taking advantage of the opportunity granted by this project to satiate that curiosity. "
   ]
  },
  {
   "cell_type": "markdown",
   "metadata": {},
   "source": [
    "># TODO:\n",
    "- give rationale for choosing genre and why its relevant to us"
   ]
  },
  {
   "cell_type": "markdown",
   "metadata": {},
   "source": [
    "---\n",
    "---\n",
    "## Machine Learning Model Implementation\n",
    "\n",
    "Selected Models:\n",
    "- [XGBoost Classifier](https://xgboost.readthedocs.io/en/stable/python/python_api.html)|\n",
    "- [Multi-Layer Perceptron Classifier](https://scikit-learn.org/stable/modules/generated/sklearn.neural_network.MLPClassifier.html)"
   ]
  },
  {
   "cell_type": "markdown",
   "metadata": {},
   "source": [
    "### XGBoost Classifier\n",
    "#### Description\n",
    "#### Algorithm\n",
    "#### Ideal Use Cases"
   ]
  },
  {
   "cell_type": "markdown",
   "metadata": {},
   "source": [
    "### Multi-Layer Perceptron Classifier\n",
    "#### Description\n",
    "#### Algorithm\n",
    "#### Ideal Use Cases"
   ]
  },
  {
   "cell_type": "markdown",
   "metadata": {},
   "source": [
    "># TODO: \n",
    "- Describe the models chosen\n",
    "- what they are, how they work, why they were chosen"
   ]
  },
  {
   "cell_type": "markdown",
   "metadata": {},
   "source": [
    "Importing ML model Libraries"
   ]
  },
  {
   "cell_type": "code",
   "execution_count": 21,
   "metadata": {},
   "outputs": [],
   "source": [
    "# library for dataset train/test split\n",
    "from sklearn.model_selection import train_test_split\n",
    "\n",
    "# libraries for model evaluation\n",
    "from sklearn.metrics import accuracy_score, confusion_matrix, f1_score\n",
    "from mlxtend.plotting import plot_confusion_matrix\n",
    "\n",
    "# libraries for ML models\n",
    "import xgboost as xgb\n",
    "from sklearn.neural_network import MLPClassifier"
   ]
  },
  {
   "cell_type": "markdown",
   "metadata": {},
   "source": [
    "### Split the dataset between training and testing"
   ]
  },
  {
   "cell_type": "markdown",
   "metadata": {},
   "source": [
    "Train test split is 75/25 because we have a relatively large dataset of 30K+ elements and decided to use a common train/test split"
   ]
  },
  {
   "cell_type": "markdown",
   "metadata": {},
   "source": [
    "[train_test_split()](https://scikit-learn.org/stable/modules/generated/sklearn.model_selection.train_test_split.html) - It is a function available in scikit-learn that splits arrays or matrices into random train and test subsets. "
   ]
  },
  {
   "cell_type": "code",
   "execution_count": 22,
   "metadata": {},
   "outputs": [
    {
     "name": "stdout",
     "output_type": "stream",
     "text": [
      "Total number of samples: 32828\n",
      "No. of training samples: 24621\n",
      "No. of testing samples: 8207\n"
     ]
    }
   ],
   "source": [
    "# Split data into training and testing, 75% training and 25% testing. \n",
    "# df_normalized - features dataframe (input data)\n",
    "# output - genres dataframe (output data)\n",
    "# test_size - size of test split (25%)\n",
    "features_train, features_test, output_train, output_test = train_test_split(df_normalized, \n",
    "                                                                            output, \n",
    "                                                                            test_size=0.25)\n",
    "print(f\"Total number of samples: {len(df)}\")\n",
    "print(f\"No. of training samples: {len(features_train)}\")\n",
    "print(f\"No. of testing samples: {len(features_test)}\")"
   ]
  },
  {
   "cell_type": "markdown",
   "metadata": {},
   "source": [
    "### XGBoost Classifier"
   ]
  },
  {
   "cell_type": "markdown",
   "metadata": {},
   "source": [
    "Model Training of **XGBoost Classifier Model**\n",
    "\n",
    "- objective - Specifies the learning task and the corresponding learning objective function to be used\n",
    "- random state - Used to set the random seed for reproducability"
   ]
  },
  {
   "cell_type": "code",
   "execution_count": 23,
   "metadata": {},
   "outputs": [
    {
     "name": "stdout",
     "output_type": "stream",
     "text": [
      "Model #1: XGBOOST Classifier\n",
      "Model accuracy: 55.72072620933349\n"
     ]
    }
   ],
   "source": [
    "model_1 = xgb.XGBClassifier(objective=\"binary:logistic\", random_state=45)\n",
    "\n",
    "print(\"Model #1: XGBOOST Classifier\")\n",
    "model_1.fit(features_train, output_train)\n",
    "prediction_1 = model_1.predict(features_test)\n",
    "acc_1 = accuracy_score(output_test, prediction_1) * 100\n",
    "print(f\"Model accuracy: {acc_1}\")"
   ]
  },
  {
   "cell_type": "markdown",
   "metadata": {},
   "source": [
    "### Multi-layer Perceptron Classifier"
   ]
  },
  {
   "cell_type": "markdown",
   "metadata": {},
   "source": [
    "Model Training of **Multi-layer Perceptron Classifier**\n",
    "\n",
    "- random_state - Used to set the random seed for reproducability\n",
    "- max_iter - Set the maximum number of iterations for the model"
   ]
  },
  {
   "cell_type": "code",
   "execution_count": 24,
   "metadata": {},
   "outputs": [
    {
     "name": "stdout",
     "output_type": "stream",
     "text": [
      "Model #2: Multi-level Perceptron Classifier\n",
      "Model accuracy: 52.85731692457658\n"
     ]
    }
   ],
   "source": [
    "model_2 = MLPClassifier(random_state = 1, max_iter = 1000)\n",
    "\n",
    "print(\"Model #2: Multi-level Perceptron Classifier\")\n",
    "model_2.fit(features_train, output_train)\n",
    "prediction_2 = model_2.predict(features_test)\n",
    "acc_2 = accuracy_score(output_test, prediction_2) * 100\n",
    "print(f\"Model accuracy: {acc_2}\")"
   ]
  },
  {
   "cell_type": "markdown",
   "metadata": {},
   "source": [
    "When max_iter is assigned values less than 1000, the model produces a warning saying the following:\n",
    ">Stochastic Optimizer: Maximum iterations (X) reached and the optimization hasn't converged yet.\n",
    "\n",
    "This means that the model did not converge during that run. The algorithm optimizes by a stepwise convergence to a minumum and having insufficient iterations means that the minumum is not found."
   ]
  },
  {
   "cell_type": "markdown",
   "metadata": {},
   "source": [
    "># TODO: explain why MLP takes longer than XGBoost"
   ]
  },
  {
   "cell_type": "markdown",
   "metadata": {},
   "source": [
    "___\n",
    "___\n",
    "## Model Evaluation and Comparison"
   ]
  },
  {
   "cell_type": "markdown",
   "metadata": {},
   "source": [
    "Evaluation methods used: Accuracy, Confusion Matrix, F1 score\n",
    "\n",
    "\n",
    "[accuracy_score()](https://scikit-learn.org/stable/modules/generated/sklearn.metrics.top_k_accuracy_score.html#sklearn.metrics.top_k_accuracy_score) - This function computes subset accuracy; the set of labels predicted for a sample must exactly match the correspondng set of labels. \n",
    "\n",
    "[confusion_matrix()](https://scikit-learn.org/stable/modules/generated/sklearn.metrics.confusion_matrix.html#sklearn.metrics.confusion_matrix) - This function computes a confusion matrix to evaluate the accuracy of a classification.\n",
    "\n",
    "[f1_score()](https://scikit-learn.org/stable/modules/generated/sklearn.metrics.f1_score.html#sklearn.metrics.f1_score) - This function computes the F1 score of a model. It can be interpreted as a harmonic mean of the precision and recall. The best value of the f1 score would be 1 while the worst is 0. The formulat of F1 scores are represented by the following:\n",
    "\n",
    "> F1 = 2 * (precision * recall) / (precision + recall)"
   ]
  },
  {
   "cell_type": "markdown",
   "metadata": {},
   "source": [
    "># TODO: Interpret confusion matrix and compare"
   ]
  },
  {
   "cell_type": "markdown",
   "metadata": {},
   "source": [
    "Model Testing of **XGBoost Classifier Model**"
   ]
  },
  {
   "cell_type": "code",
   "execution_count": 25,
   "metadata": {},
   "outputs": [
    {
     "name": "stdout",
     "output_type": "stream",
     "text": [
      "Model #1: XGBoost Classifier\n",
      "XGBoost Classifier Model accuracy: 55.72072620933349\n",
      "f1 score: [37.06 63.04 70.31 45.88 47.45 68.78]\n"
     ]
    },
    {
     "data": {
      "image/png": "[encoded data removed]",
      "text/plain": [
       "<Figure size 600x600 with 1 Axes>"
      ]
     },
     "metadata": {},
     "output_type": "display_data"
    }
   ],
   "source": [
    "print(\"Model #1: XGBoost Classifier\")\n",
    "print(f\"XGBoost Classifier Model accuracy: {acc_1}\")\n",
    "\n",
    "# f1 score\n",
    "f1score_1 = f1_score(output_test, prediction_1, average=None)\n",
    "f1score_1_percent = [x * 100 for x in f1score_1]\n",
    "f1score_1_percent = np.around(f1score_1_percent,2)\n",
    "print(f\"f1 score: {f1score_1_percent}\")\n",
    "\n",
    "# confusion matrix\n",
    "cnf_1 = confusion_matrix(output_test, prediction_1)\n",
    "fig, ax = plot_confusion_matrix(conf_mat=cnf_1)\n",
    "plt.show()"
   ]
  },
  {
   "cell_type": "markdown",
   "metadata": {},
   "source": [
    "Model Testing of **Multi-layer Perceptron Classifier**"
   ]
  },
  {
   "cell_type": "code",
   "execution_count": 26,
   "metadata": {},
   "outputs": [
    {
     "name": "stdout",
     "output_type": "stream",
     "text": [
      "Model #2: Multi-level Perceptron Classifier\n",
      "MLP Model accuracy: 52.85731692457658\n",
      "f1 score: [32.47 59.54 67.32 39.54 46.37 65.52]\n"
     ]
    },
    {
     "data": {
      "image/png": "[encoded data removed]",
      "text/plain": [
       "<Figure size 600x600 with 1 Axes>"
      ]
     },
     "metadata": {},
     "output_type": "display_data"
    }
   ],
   "source": [
    "print(\"Model #2: Multi-level Perceptron Classifier\")\n",
    "print(f\"MLP Model accuracy: {acc_2}\")\n",
    "\n",
    "# f1 score\n",
    "f1score_2 = f1_score(output_test, prediction_2, average=None)\n",
    "f1score_2_percent = [x * 100 for x in f1score_2]\n",
    "f1score_2_percent = np.around(f1score_2_percent,2)\n",
    "print(f\"f1 score: {f1score_2_percent}\")\n",
    "\n",
    "# confusion matrix\n",
    "cnf_2 = confusion_matrix(output_test, prediction_2)\n",
    "fig, ax = plot_confusion_matrix(conf_mat=cnf_2)\n",
    "plt.show()"
   ]
  }
 ],
 "metadata": {
  "kernelspec": {
   "display_name": "Python 3",
   "language": "python",
   "name": "python3"
  },
  "language_info": {
   "codemirror_mode": {
    "name": "ipython",
    "version": 3
   },
   "file_extension": ".py",
   "mimetype": "text/x-python",
   "name": "python",
   "nbconvert_exporter": "python",
   "pygments_lexer": "ipython3",
   "version": "3.10.11"
  }
 },
 "nbformat": 4,
 "nbformat_minor": 5
}
